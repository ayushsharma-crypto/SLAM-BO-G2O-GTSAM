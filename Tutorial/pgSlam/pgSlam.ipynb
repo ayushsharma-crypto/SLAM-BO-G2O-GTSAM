{
 "cells": [
  {
   "cell_type": "markdown",
   "metadata": {},
   "source": [
    "### Problem Statement\n",
    "\n",
    "A robot is travelling in a oval trajectory. It is equipped with wheel odometry for odometry information and RGBD sensors for loop closure and ICP transformation. Due to noise in wheel odometry it generated a noisy estimate of the trajectory. Our task is to use loop closure pairs to correct the drift."
   ]
  },
  {
   "cell_type": "code",
   "execution_count": null,
   "metadata": {},
   "outputs": [],
   "source": [
    "%matplotlib inline\n",
    "\n",
    "import matplotlib.pyplot as plt\n",
    "import math\n",
    "import numpy as np\n",
    "import os\n",
    "import gtsam"
   ]
  },
  {
   "cell_type": "markdown",
   "metadata": {},
   "source": [
    "Generating X, Y coordinates and $\\theta$ separately for the trajectory"
   ]
  },
  {
   "cell_type": "code",
   "execution_count": null,
   "metadata": {},
   "outputs": [],
   "source": [
    "def genTraj():\n",
    "    init = (0, 0)\n",
    "\n",
    "    # Forward I\n",
    "    num = 20; xSt = -5; ySt = -8; leng = 9.0; step = float(leng)/num\n",
    "    X1 = np.zeros(num); Y1 = np.zeros(num); X1[0] = xSt; Y1[0] = ySt\n",
    "    for i in range(1, num):\n",
    "        X1[i] = X1[i-1] + step\n",
    "        Y1[i] = ySt\n",
    "\n",
    "    # UTurn I\n",
    "    rad = 2.5; num = 20\n",
    "    xCen = X1[-1]; yCen = Y1[-1] + rad\n",
    "    thetas = np.linspace(-math.pi/2, math.pi/2, num)\n",
    "    X2 = np.zeros(num); Y2 = np.zeros(num)\n",
    "    for i, theta in enumerate(thetas):\n",
    "        X2[i] = (xCen + rad*math.cos(theta))\n",
    "        Y2[i] = (yCen + rad*math.sin(theta))\n",
    "\n",
    "    # Backward I\n",
    "    num = 20; leng = 10.0; step = float(leng)/num\n",
    "    xSt = X2[-1]; ySt = Y2[-1]\n",
    "    X3 = np.zeros(num); Y3 = np.zeros(num); X3[0] = xSt; Y3[0] = ySt \n",
    "    for i in range(1, num):\n",
    "        X3[i] = X3[i-1] - step\n",
    "        Y3[i] = ySt\n",
    "\n",
    "    # UTurn II\n",
    "    rad = 2.6; num = 20\n",
    "    xCen = X3[-1]; yCen = Y3[-1] - rad\n",
    "    thetas = np.linspace(math.pi/2, 3*math.pi/2, num)\n",
    "    X4 = np.zeros(num); Y4 = np.zeros(num)\n",
    "    for i, theta in enumerate(thetas):\n",
    "        X4[i] = (xCen + rad*math.cos(theta))\n",
    "        Y4[i] = (yCen + rad*math.sin(theta))\n",
    "\n",
    "    # Forward II\n",
    "    num = 20; leng = 11.0; step = float(leng)/num\n",
    "    xSt = X4[-1]; ySt = Y4[-1]\n",
    "    X5 = np.zeros(num); Y5 = np.zeros(num); X5[0] = xSt; Y5[0] = ySt\n",
    "    for i in range(1, num):\n",
    "        X5[i] = X5[i-1] + step\n",
    "        Y5[i] = ySt\n",
    "\n",
    "    # UTurn III\n",
    "    rad = 2.7; num = 20\n",
    "    xCen = X5[-1]; yCen = Y5[-1] + rad\n",
    "    thetas = np.linspace(-math.pi/2, math.pi/2, num)\n",
    "    X6 = np.zeros(num); Y6 = np.zeros(num)\n",
    "    for i, theta in enumerate(thetas):\n",
    "        X6[i] = (xCen + rad*math.cos(theta))\n",
    "        Y6[i] = (yCen + rad*math.sin(theta))\t\n",
    "\n",
    "    # Assemble\n",
    "    X = np.concatenate([X1, X2, X3, X4, X5, X6]); Y = np.concatenate([Y1, Y2, Y3, Y4, Y5, Y6])\n",
    "    THETA = np.array(getTheta(X, Y))\n",
    "\n",
    "    return (X, Y, THETA)\n",
    "\n",
    "\n",
    "def getTheta(X ,Y):\n",
    "    THETA = [None]*len(X)\n",
    "    for i in range(1, len(X)-1):\n",
    "        if(X[i+1] == X[i-1]):\n",
    "            if (Y[i+1]>Y[i-1]):\n",
    "                THETA[i] = math.pi/2\n",
    "            else:\n",
    "                THETA[i] = 3*math.pi/2\n",
    "            continue\n",
    "\n",
    "        THETA[i] = math.atan((Y[i+1]-Y[i-1])/(X[i+1]-X[i-1]))\n",
    "\n",
    "        if(X[i+1]-X[i-1] < 0):\n",
    "            THETA[i] += math.pi \n",
    "\n",
    "    if X[1]==X[0]:\n",
    "        if Y[1] > Y[0]:\n",
    "            THETA[0] = math.pi/2\n",
    "        else:\n",
    "            THETA[0] = 3*math.pi/2\n",
    "    else:\n",
    "        THETA[0] = math.atan((Y[1]-Y[0])/(X[1]-X[0]))\n",
    "\n",
    "    if X[-1] == X[len(Y)-2]:\n",
    "        if Y[1] > Y[0]:\n",
    "            THETA[-1] = math.pi/2\n",
    "        else:\n",
    "            THETA[-1] = 3*math.pi/2\n",
    "    else:\n",
    "        THETA[-1] = math.atan((Y[-1]-Y[len(Y)-2])/(X[-1]-X[len(Y)-2]))\n",
    "\n",
    "    return THETA"
   ]
  },
  {
   "cell_type": "code",
   "execution_count": null,
   "metadata": {},
   "outputs": [],
   "source": [
    "(X, Y, THETA) = genTraj()"
   ]
  },
  {
   "cell_type": "markdown",
   "metadata": {},
   "source": [
    "Drawing functions for plotting one, two and three trajectories simultaneously."
   ]
  },
  {
   "cell_type": "code",
   "execution_count": null,
   "metadata": {},
   "outputs": [],
   "source": [
    "def draw(X, Y, THETA):\n",
    "    ax = plt.subplot(111)\n",
    "    ax.plot(X, Y, 'ro')\n",
    "    plt.plot(X, Y, 'k-')\n",
    "\n",
    "    for i in range(len(THETA)):\n",
    "        x2 = 0.25*math.cos(THETA[i]) + X[i]\n",
    "        y2 = 0.25*math.sin(THETA[i]) + Y[i]\n",
    "        plt.plot([X[i], x2], [Y[i], y2], 'm->')\n",
    "\n",
    "    plt.show()\n",
    "\n",
    "\n",
    "def drawTwo(X1, Y1, THETA1, X2, Y2, THETA2):\n",
    "    ax = plt.subplot(111)\n",
    "    ax.plot(X1, Y1, 'ro', label='Ground Truth')\n",
    "    plt.plot(X1, Y1, 'k-')\n",
    "\n",
    "    for i in range(len(THETA1)):\n",
    "        x2 = 0.25*math.cos(THETA1[i]) + X1[i]\n",
    "        y2 = 0.25*math.sin(THETA1[i]) + Y1[i]\n",
    "        plt.plot([X1[i], x2], [Y1[i], y2], 'r->')\n",
    "\n",
    "    ax.plot(X2, Y2, 'bo', label='Optimized')\n",
    "    plt.plot(X2, Y2, 'k-')\n",
    "\n",
    "    for i in range(len(THETA2)):\n",
    "        x2 = 0.25*math.cos(THETA2[i]) + X2[i]\n",
    "        y2 = 0.25*math.sin(THETA2[i]) + Y2[i]\n",
    "        plt.plot([X2[i], x2], [Y2[i], y2], 'b->')\n",
    "\n",
    "    plt.legend()\n",
    "    plt.show()\n",
    "\n",
    "\n",
    "def drawThree(X1, Y1, THETA1, X2, Y2, THETA2, X3, Y3, THETA3):\n",
    "    ax = plt.subplot(111)\n",
    "    ax.plot(X1, Y1, 'ro', label='Ground Truth')\n",
    "    plt.plot(X1, Y1, 'k-')\n",
    "\n",
    "    for i in range(len(THETA1)):\n",
    "        x2 = 0.25*math.cos(THETA1[i]) + X1[i]\n",
    "        y2 = 0.25*math.sin(THETA1[i]) + Y1[i]\n",
    "        plt.plot([X1[i], x2], [Y1[i], y2], 'r->')\n",
    "\n",
    "    ax.plot(X2, Y2, 'bo', label='Optimized')\n",
    "    plt.plot(X2, Y2, 'k-')\n",
    "\n",
    "    for i in range(len(THETA2)):\n",
    "        x2 = 0.25*math.cos(THETA2[i]) + X2[i]\n",
    "        y2 = 0.25*math.sin(THETA2[i]) + Y2[i]\n",
    "        plt.plot([X2[i], x2], [Y2[i], y2], 'b->')\n",
    "\n",
    "    ax.plot(X3, Y3, 'go', label='Noisy')\n",
    "    plt.plot(X3, Y3, 'k-')\n",
    "\n",
    "    for i in range(len(THETA3)):\n",
    "        x2 = 0.25*math.cos(THETA3[i]) + X3[i]\n",
    "        y2 = 0.25*math.sin(THETA3[i]) + Y3[i]\n",
    "        plt.plot([X3[i], x2], [Y3[i], y2], 'g->')\n",
    "\n",
    "    plt.legend()\n",
    "    plt.show()\t\n"
   ]
  },
  {
   "cell_type": "markdown",
   "metadata": {},
   "source": [
    "Ground Truth Trajectory"
   ]
  },
  {
   "cell_type": "code",
   "execution_count": null,
   "metadata": {},
   "outputs": [],
   "source": [
    "draw(X, Y, THETA)"
   ]
  },
  {
   "cell_type": "markdown",
   "metadata": {},
   "source": [
    "Adding noise to the trajectory to simulate real life scenario.  \n",
    "We could not directly add noise values to $X, Y, \\theta$ parameters. Instead noise should be added to the odometry values.  \n",
    "T1_w = $T^w_1$ = 1 with respect to the world"
   ]
  },
  {
   "cell_type": "code",
   "execution_count": null,
   "metadata": {},
   "outputs": [],
   "source": [
    "def addNoise(X, Y, THETA):\n",
    "    xN = np.zeros(len(X)); yN = np.zeros(len(Y)); tN = np.zeros(len(THETA))\n",
    "    xN[0] = X[0]; yN[0] = Y[0]; tN[0] = THETA[0]\n",
    "\n",
    "    for i in range(1, len(X)):\n",
    "        # Get T2_1\n",
    "        p1 = (X[i-1], Y[i-1], THETA[i-1])\n",
    "        p2 = (X[i], Y[i], THETA[i])\n",
    "        T1_w = np.array([[math.cos(p1[2]), -math.sin(p1[2]), p1[0]], [math.sin(p1[2]), math.cos(p1[2]), p1[1]], [0, 0, 1]])\n",
    "        T2_w = np.array([[math.cos(p2[2]), -math.sin(p2[2]), p2[0]], [math.sin(p2[2]), math.cos(p2[2]), p2[1]], [0, 0, 1]])\n",
    "        T2_1 = np.dot(np.linalg.inv(T1_w), T2_w)\n",
    "        del_x = T2_1[0][2]\n",
    "        del_y = T2_1[1][2]\n",
    "        del_theta = math.atan2(T2_1[1, 0], T2_1[0, 0])\n",
    "\n",
    "        # Add noise\n",
    "        if(i<5):\n",
    "            xNoise = 0; yNoise = 0; tNoise = 0\n",
    "        else:\n",
    "            xNoise = np.random.normal(0, 0.03); yNoise = np.random.normal(0, 0.03); tNoise = np.random.normal(0, 0.03)\n",
    "        del_xN = del_x + xNoise; del_yN = del_y + yNoise; del_thetaN = del_theta + tNoise\n",
    "\n",
    "        # Convert to T2_1'\n",
    "        T2_1N = np.array([[math.cos(del_thetaN), -math.sin(del_thetaN), del_xN], [math.sin(del_thetaN), math.cos(del_thetaN), del_yN], [0, 0, 1]])\n",
    "\n",
    "        # Get T2_w' = T1_w' . T2_1'\n",
    "        p1 = (xN[i-1], yN[i-1], tN[i-1])\n",
    "        T1_wN = np.array([[math.cos(p1[2]), -math.sin(p1[2]), p1[0]], [math.sin(p1[2]), math.cos(p1[2]), p1[1]], [0, 0, 1]])\n",
    "        T2_wN = np.dot(T1_wN, T2_1N)\n",
    "\n",
    "        # Get x2', y2', theta2'\n",
    "        x2N = T2_wN[0][2]\n",
    "        y2N = T2_wN[1][2]\n",
    "        theta2N = math.atan2(T2_wN[1, 0], T2_wN[0, 0])\n",
    "\n",
    "        xN[i] = x2N; yN[i] = y2N; tN[i] = theta2N  \n",
    "\n",
    "    # tN = getTheta(xN, yN)\n",
    "\n",
    "    return (xN, yN, tN)"
   ]
  },
  {
   "cell_type": "markdown",
   "metadata": {},
   "source": [
    "Noisy trajectory"
   ]
  },
  {
   "cell_type": "code",
   "execution_count": null,
   "metadata": {
    "scrolled": true
   },
   "outputs": [],
   "source": [
    "(xN, yN, tN) = addNoise(X, Y, THETA)\n",
    "draw(xN, yN, tN)"
   ]
  },
  {
   "attachments": {
    "loop_clousre_noisy.png": {
     "image/png": "[encoded data removed]"
    }
   },
   "cell_type": "markdown",
   "metadata": {},
   "source": [
    "## Backend Optimisation [G2O and GTSAM]\n",
    "\n",
    "\n",
    "\n",
    "### G2O\n",
    "\n",
    "Generating G2O file. We would be using `VERTEX_SE2` and `EDGE_SE2` for our task.  \n",
    "Information matrix for odometry edges, $\\omega_{odom}$ = `500.0 0.0 0.0 500.0 0.0 500.0`   \n",
    "Information matrix for loop closure edges, $\\omega_{lc}$ = `700.0 0.0 0.0 700.0 0.0 700.0`  \n",
    "Loop closure constraints are generated for the starting part of the trajectory. In practice, they would be detected by loop closure system using bag of visual words and transformation would be calculated using ICP.  \n",
    "Fix the starting node in pose graph otherwise the optimized pose graph can occur anywhere on cartesian plane.  \n",
    "Below figure is generated using `g2o_viewer`, in terminal after generating `noise.g2o`, run: `g2o_viewer noise.g2o`  \n",
    "\n",
    "<img src=\"./results/loop_clousre_noisy.png\" width=\"500\" />\n",
    "\n"
   ]
  },
  {
   "cell_type": "code",
   "execution_count": null,
   "metadata": {},
   "outputs": [],
   "source": [
    "def writeOdom(X, Y, THETA):\n",
    "    g2o = open('noise.g2o', 'w')\n",
    "\n",
    "    for i, (x, y, theta) in enumerate(zip(X,Y,THETA)):\n",
    "        line = \"VERTEX_SE2 \" + str(i) + \" \" + str(x) + \" \" + str(y) + \" \" + str(theta)\n",
    "        g2o.write(line)\n",
    "        g2o.write(\"\\n\")\n",
    "\n",
    "    info_mat = \"500.0 0.0 0.0 500.0 0.0 500.0\"\n",
    "    for i in range(1, len(X)):\n",
    "        p1 = (X[i-1], Y[i-1], THETA[i-1])\n",
    "        p2 = (X[i], Y[i], THETA[i])\n",
    "        T1_w = np.array([[math.cos(p1[2]), -math.sin(p1[2]), p1[0]], [math.sin(p1[2]), math.cos(p1[2]), p1[1]], [0, 0, 1]])\n",
    "        T2_w = np.array([[math.cos(p2[2]), -math.sin(p2[2]), p2[0]], [math.sin(p2[2]), math.cos(p2[2]), p2[1]], [0, 0, 1]])\n",
    "        T2_1 = np.dot(np.linalg.inv(T1_w), T2_w)\n",
    "        del_x = str(T2_1[0][2])\n",
    "        del_y = str(T2_1[1][2])\n",
    "        del_theta = str(math.atan2(T2_1[1, 0], T2_1[0, 0]))\n",
    "\n",
    "        line = \"EDGE_SE2 \"+str(i-1)+\" \"+str(i)+\" \"+del_x+\" \"+del_y+\" \"+del_theta+\" \"+info_mat\n",
    "        g2o.write(line)\n",
    "        g2o.write(\"\\n\")\n",
    "\n",
    "    g2o.write(\"FIX 0\")\n",
    "    g2o.write(\"\\n\")\n",
    "    # g2o.close()\n",
    "    return g2o\n",
    "\n",
    "\n",
    "def writeLoop(X, Y, THETA, g2o):\n",
    "    sz = X.size\n",
    "\n",
    "    pairs = []\n",
    "    for i in range(0, 40, 2):\n",
    "        pairs.append((i, i+80))\n",
    "    # for i in range(len(X)):\n",
    "    # \tpairs.append((0, i))\n",
    "\n",
    "    info_mat = \"700.0 0.0 0.0 700.0 0.0 700.0\"\n",
    "\n",
    "    for p in pairs:\n",
    "        p1 = (X[p[0]], Y[p[0]], THETA[p[0]])\n",
    "        p2 = (X[p[1]], Y[p[1]], THETA[p[1]])\n",
    "        T1_w = np.array([[math.cos(p1[2]), -math.sin(p1[2]), p1[0]], [math.sin(p1[2]), math.cos(p1[2]), p1[1]], [0, 0, 1]])\n",
    "        T2_w = np.array([[math.cos(p2[2]), -math.sin(p2[2]), p2[0]], [math.sin(p2[2]), math.cos(p2[2]), p2[1]], [0, 0, 1]])\n",
    "        T2_1 = np.dot(np.linalg.inv(T1_w), T2_w)\n",
    "        del_x = str(T2_1[0][2])\n",
    "        del_y = str(T2_1[1][2])\n",
    "        del_theta = str(math.atan2(T2_1[1, 0], T2_1[0, 0]))\n",
    "\n",
    "        line = \"EDGE_SE2 \"+str(p[0])+\" \"+str(p[1])+\" \"+del_x+\" \"+del_y+\" \"+del_theta+\" \"+info_mat\n",
    "        g2o.write(line)\n",
    "        g2o.write(\"\\n\")\n",
    "\n",
    "    g2o.close()"
   ]
  },
  {
   "cell_type": "code",
   "execution_count": null,
   "metadata": {},
   "outputs": [],
   "source": [
    "g2o = writeOdom(xN, yN, tN)\n",
    "writeLoop(X, Y, THETA, g2o)"
   ]
  },
  {
   "cell_type": "markdown",
   "metadata": {},
   "source": [
    "Optimize the pose graph using g2o binary and loads the optimized graph.  \n",
    "G2O provides options to change the number of iteration steps, change the optimization solver and incorporate robust cost functions to minimize the impact of false loop closure constraints due to error in frontend.  "
   ]
  },
  {
   "cell_type": "code",
   "execution_count": null,
   "metadata": {},
   "outputs": [],
   "source": [
    "def optimize(g2o_path_to_bin = \"../../../MR2022/Tutorial/g2o-master/bin/g2o\"):\n",
    "    cmd = g2o_path_to_bin+\" -o opt.g2o noise.g2o\"\n",
    "    os.system(cmd)\n",
    "    \n",
    "\n",
    "def readG2o(fileName):\n",
    "    f = open(fileName, 'r')\n",
    "    A = f.readlines()\n",
    "    f.close()\n",
    "\n",
    "    X = []\n",
    "    Y = []\n",
    "    THETA = []\n",
    "\n",
    "    for line in A:\n",
    "        if \"VERTEX_SE2\" in line:\n",
    "            line = line.strip()\n",
    "            (ver, ind, x, y, theta) = line.split(' ')\n",
    "            X.append(float(x))\n",
    "            Y.append(float(y))\n",
    "            THETA.append(float(theta.rstrip('\\n')))\n",
    "\n",
    "    return (X, Y, THETA)"
   ]
  },
  {
   "cell_type": "markdown",
   "metadata": {},
   "source": [
    "Comparing Ground Truth and optimized trajectory.  "
   ]
  },
  {
   "cell_type": "code",
   "execution_count": null,
   "metadata": {},
   "outputs": [],
   "source": [
    "optimize()\n",
    "(xOpt, yOpt, tOpt) = readG2o(\"opt.g2o\")\n",
    "drawTwo(X, Y, THETA, xOpt, yOpt, tOpt)"
   ]
  },
  {
   "cell_type": "markdown",
   "metadata": {},
   "source": [
    "Comparing Ground Truth, optimized and noisy trajectory.  "
   ]
  },
  {
   "cell_type": "code",
   "execution_count": null,
   "metadata": {},
   "outputs": [],
   "source": [
    "drawThree(X, Y, THETA, xOpt, yOpt, tOpt, xN, yN, tN)"
   ]
  },
  {
   "cell_type": "markdown",
   "metadata": {},
   "source": [
    "### GTSAM Optimiser"
   ]
  },
  {
   "cell_type": "code",
   "execution_count": null,
   "metadata": {},
   "outputs": [],
   "source": [
    "\n",
    "def gtsam_optimisation(save_file, noiselc, x0, y0, t0):\n",
    "\tgraph, initial = gtsam.readG2o(noiselc, is3D=False)\n",
    "\tpriorModel = gtsam.noiseModel.Diagonal.Variances(gtsam.Point3(1e-2, 1e-2, 1e-4))\n",
    "\tgraph.add(gtsam.PriorFactorPose2(0, gtsam.Pose2(x0, y0, t0), priorModel))\n",
    "\n",
    "\tparams = gtsam.LevenbergMarquardtParams()\n",
    "\tparams.setVerbosity(\"Termination\")  # this will show info about stopping conds\n",
    "\toptimizer = gtsam.LevenbergMarquardtOptimizer(graph, initial, params)\n",
    "\n",
    "\tresult = optimizer.optimize()\n",
    "\tprint(\"Optimization complete\")\n",
    "\tprint(\"initial error = \", graph.error(initial))\n",
    "\tprint(\"final error = \", graph.error(result))\n",
    "\n",
    "\tprint(\"Writing results to file: \", save_file)\n",
    "\tgraphNoKernel, _ = gtsam.readG2o(noiselc, is3D=False)\n",
    "\tgtsam.writeG2o(graphNoKernel, result, save_file)\n",
    "\tprint(\"Done!\")"
   ]
  },
  {
   "cell_type": "code",
   "execution_count": null,
   "metadata": {},
   "outputs": [],
   "source": [
    "gtsam_optimisation(\"opt_gtsam.g2o\", \"noise.g2o\", X[0], Y[0], THETA[0])\n",
    "(xOpt, yOpt, tOpt) = readG2o(\"opt_gtsam.g2o\")\n",
    "drawTwo(X, Y, THETA, xOpt, yOpt, tOpt)"
   ]
  },
  {
   "cell_type": "code",
   "execution_count": null,
   "metadata": {},
   "outputs": [],
   "source": [
    "drawThree(X, Y, THETA, xOpt, yOpt, tOpt, xN, yN, tN)\n"
   ]
  },
  {
   "cell_type": "markdown",
   "metadata": {},
   "source": [
    "# Via python Wrapper"
   ]
  },
  {
   "cell_type": "code",
   "execution_count": null,
   "metadata": {},
   "outputs": [],
   "source": [
    "\n",
    "def pose_symbol(i):\n",
    "    \treturn gtsam.symbol_shorthand.X(i)\n",
    "\n",
    "def ldmk_symbol(i):\n",
    "    \treturn gtsam.symbol_shorthand.L(i)\n",
    "\n",
    "\n",
    "def get_between_factor(p1, p2):\n",
    "\tT1_w = np.array([[math.cos(p1[2]), -math.sin(p1[2]), p1[0]], [math.sin(p1[2]), math.cos(p1[2]), p1[1]], [0, 0, 1]])\n",
    "\tT2_w = np.array([[math.cos(p2[2]), -math.sin(p2[2]), p2[0]], [math.sin(p2[2]), math.cos(p2[2]), p2[1]], [0, 0, 1]])\n",
    "\tT2_1 = np.dot(np.linalg.inv(T1_w), T2_w)\n",
    "\tdx = T2_1[0][2]\n",
    "\tdy = T2_1[1][2]\n",
    "\tdt = math.atan2(T2_1[1, 0], T2_1[0, 0])\n",
    "\treturn gtsam.Pose2(dx, dy, dt)\n"
   ]
  },
  {
   "cell_type": "code",
   "execution_count": null,
   "metadata": {},
   "outputs": [],
   "source": [
    "# usually done by Bag of words / Global descriptor concepts\n",
    "# write now we are using GT\n",
    "def computeLoop(X, Y, THETA):\n",
    "    pairs = []\n",
    "    for i in range(0, 40, 2):\n",
    "        p1 = [X[i],Y[i],THETA[i]]\n",
    "        p2 = [X[i+80],Y[i+80],THETA[i+80]]\n",
    "        pairs.append([i, i+80, get_between_factor(p1,p2)])\n",
    "    return pairs"
   ]
  },
  {
   "cell_type": "code",
   "execution_count": null,
   "metadata": {},
   "outputs": [],
   "source": [
    "\n",
    "\n",
    "def gtsam_optimisation_python(xN, yN, tN, pairs, pose_sigma, print_log=False):\n",
    "\tgraph = gtsam.NonlinearFactorGraph()\n",
    "\tinitial = gtsam.Values()\n",
    "    \n",
    "\tif print_log:\n",
    "\t\tprint(\"Adding poses...\")\n",
    "        \n",
    "\tfor idx in range(len(xN)):\n",
    "\t\tinitial.insert(\n",
    "\t\t\tpose_symbol(idx), \n",
    "\t\t\tgtsam.Pose2(xN[idx], yN[idx], tN[idx])\n",
    "\t\t)\n",
    "\n",
    "\tif print_log:\n",
    "\t\tprint(\"Adding odom edges...\")\n",
    "        \n",
    "\tpriorModel = gtsam.noiseModel.Diagonal.Sigmas(pose_sigma)\n",
    "\tgraph.add(gtsam.PriorFactorPose2(pose_symbol(0), gtsam.Pose2(xN[0], yN[0], tN[0]), priorModel))\n",
    "\tfor idx in range(len(xN)-1):\n",
    "\t\t\tgraph.add(gtsam.BetweenFactorPose2(\n",
    "\t\t\t\tpose_symbol(idx),\n",
    "\t\t\t\tpose_symbol(idx+1),\n",
    "\t\t\t\tget_between_factor([xN[idx],yN[idx],tN[idx]],[xN[idx+1],yN[idx+1],tN[idx+1]]),\n",
    "\t\t\t\tpriorModel\n",
    "\t\t\t))\n",
    "    \n",
    "\n",
    "\tif print_log:\n",
    "\t\tprint(\"Adding loop edges...\")\n",
    "\tfor LP in pairs:\n",
    "\t\t\tgraph.add(gtsam.BetweenFactorPose2(\n",
    "\t\t\t\tpose_symbol(LP[0]),\n",
    "\t\t\t\tpose_symbol(LP[1]),\n",
    "\t\t\t\tLP[2],\n",
    "\t\t\t\tpriorModel\n",
    "\t\t\t))\n",
    "    \n",
    "\t\n",
    "\tparams = gtsam.LevenbergMarquardtParams()\n",
    "\tif print_log:\n",
    "\t\tparams.setVerbosity(\"Termination\")  \n",
    "\tparams.setMaxIterations(500)\n",
    "\toptimizer = gtsam.LevenbergMarquardtOptimizer(graph, initial, params)\n",
    "\n",
    "\tresult = optimizer.optimize()\n",
    "\n",
    "\tif print_log:\n",
    "\t\tprint(\"Optimization complete\")\n",
    "\t\tprint(\"initial error = \", graph.error(initial))\n",
    "\t\tprint(\"final error = \", graph.error(result))\n",
    "\tmarginals = gtsam.Marginals(graph, result)\n",
    "\n",
    "\n",
    "\tfinal_x = []\n",
    "\tfinal_y = [] \n",
    "\tfinal_t = [] \n",
    "\tfinal_ldmk = [] \n",
    "\tfor idx in range(len(xN)):\n",
    "\t\tfinal_x.append(result.atPose2(pose_symbol(idx)).x())\n",
    "\t\tfinal_y.append(result.atPose2(pose_symbol(idx)).y())\n",
    "\t\tfinal_t.append(result.atPose2(pose_symbol(idx)).theta())\n",
    "\t\t# print(\"X\",idx ,\" -> \", marginals.marginalCovariance(pose_symbol(idx)))\n",
    "        \n",
    "\n",
    "\treturn final_x, final_y, final_t\n"
   ]
  },
  {
   "cell_type": "code",
   "execution_count": null,
   "metadata": {},
   "outputs": [],
   "source": [
    "pose_sigma = np.array([ 100, 100, 100 ]) # x, y, theta\n",
    "pairs = computeLoop(X, Y, THETA)\n",
    "xOpt, yOpt, tOpt = gtsam_optimisation_python(xN, yN, tN, pairs,pose_sigma, True)\n",
    "drawTwo(X, Y, THETA, xOpt, yOpt, tOpt)"
   ]
  },
  {
   "cell_type": "code",
   "execution_count": null,
   "metadata": {},
   "outputs": [],
   "source": [
    "drawThree(X, Y, THETA, xOpt, yOpt, tOpt, xN, yN, tN)\n"
   ]
  },
  {
   "cell_type": "code",
   "execution_count": null,
   "metadata": {},
   "outputs": [],
   "source": []
  }
 ],
 "metadata": {
  "kernelspec": {
   "display_name": "Python 3.8.13 ('GD-RORD-SLAM')",
   "language": "python",
   "name": "python3"
  },
  "language_info": {
   "codemirror_mode": {
    "name": "ipython",
    "version": 3
   },
   "file_extension": ".py",
   "mimetype": "text/x-python",
   "name": "python",
   "nbconvert_exporter": "python",
   "pygments_lexer": "ipython3",
   "version": "3.8.13"
  },
  "vscode": {
   "interpreter": {
    "hash": "81657463b5837fd160f2ed72f33c8675b2485d45f6f594ca88138fc1be38b8cd"
   }
  }
 },
 "nbformat": 4,
 "nbformat_minor": 2
}
